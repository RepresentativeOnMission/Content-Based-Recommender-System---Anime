{
 "cells": [
  {
   "cell_type": "code",
   "execution_count": 4,
   "metadata": {},
   "outputs": [],
   "source": [
    "import pandas as pd\n",
    "%matplotlib inline\n",
    "import matplotlib\n",
    "import matplotlib.pyplot as plt\n",
    "import numpy as np\n",
    "import pandas as pd\n",
    "from sklearn.feature_extraction.text import TfidfVectorizer\n",
    "from sklearn.metrics.pairwise import cosine_similarity"
   ]
  },
  {
   "cell_type": "code",
   "execution_count": 15,
   "metadata": {},
   "outputs": [
    {
     "name": "stdout",
     "output_type": "stream",
     "text": [
      "(16214, 6)\n"
     ]
    },
    {
     "data": {
      "text/html": [
       "<div>\n",
       "<style scoped>\n",
       "    .dataframe tbody tr th:only-of-type {\n",
       "        vertical-align: middle;\n",
       "    }\n",
       "\n",
       "    .dataframe tbody tr th {\n",
       "        vertical-align: top;\n",
       "    }\n",
       "\n",
       "    .dataframe thead th {\n",
       "        text-align: right;\n",
       "    }\n",
       "</style>\n",
       "<table border=\"1\" class=\"dataframe\">\n",
       "  <thead>\n",
       "    <tr style=\"text-align: right;\">\n",
       "      <th></th>\n",
       "      <th>MAL_ID</th>\n",
       "      <th>Name</th>\n",
       "      <th>Score</th>\n",
       "      <th>Genres</th>\n",
       "      <th>sypnopsis</th>\n",
       "      <th>description</th>\n",
       "    </tr>\n",
       "  </thead>\n",
       "  <tbody>\n",
       "    <tr>\n",
       "      <th>0</th>\n",
       "      <td>1</td>\n",
       "      <td>Cowboy Bebop</td>\n",
       "      <td>8.78</td>\n",
       "      <td>Action, Adventure, Comedy, Drama, Sci-Fi, Space</td>\n",
       "      <td>In the year 2071, humanity has colonized sever...</td>\n",
       "      <td>Action, Adventure, Comedy, Drama, Sci-Fi, Spac...</td>\n",
       "    </tr>\n",
       "    <tr>\n",
       "      <th>1</th>\n",
       "      <td>5</td>\n",
       "      <td>Cowboy Bebop: Tengoku no Tobira</td>\n",
       "      <td>8.39</td>\n",
       "      <td>Action, Drama, Mystery, Sci-Fi, Space</td>\n",
       "      <td>other day, another bounty—such is the life of ...</td>\n",
       "      <td>Action, Drama, Mystery, Sci-Fi, Spaceother day...</td>\n",
       "    </tr>\n",
       "    <tr>\n",
       "      <th>2</th>\n",
       "      <td>6</td>\n",
       "      <td>Trigun</td>\n",
       "      <td>8.24</td>\n",
       "      <td>Action, Sci-Fi, Adventure, Comedy, Drama, Shounen</td>\n",
       "      <td>Vash the Stampede is the man with a $$60,000,0...</td>\n",
       "      <td>Action, Sci-Fi, Adventure, Comedy, Drama, Shou...</td>\n",
       "    </tr>\n",
       "    <tr>\n",
       "      <th>3</th>\n",
       "      <td>7</td>\n",
       "      <td>Witch Hunter Robin</td>\n",
       "      <td>7.27</td>\n",
       "      <td>Action, Mystery, Police, Supernatural, Drama, ...</td>\n",
       "      <td>ches are individuals with special powers like ...</td>\n",
       "      <td>Action, Mystery, Police, Supernatural, Drama, ...</td>\n",
       "    </tr>\n",
       "    <tr>\n",
       "      <th>4</th>\n",
       "      <td>8</td>\n",
       "      <td>Bouken Ou Beet</td>\n",
       "      <td>6.98</td>\n",
       "      <td>Adventure, Fantasy, Shounen, Supernatural</td>\n",
       "      <td>It is the dark century and the people are suff...</td>\n",
       "      <td>Adventure, Fantasy, Shounen, SupernaturalIt is...</td>\n",
       "    </tr>\n",
       "  </tbody>\n",
       "</table>\n",
       "</div>"
      ],
      "text/plain": [
       "   MAL_ID                             Name Score  \\\n",
       "0       1                     Cowboy Bebop  8.78   \n",
       "1       5  Cowboy Bebop: Tengoku no Tobira  8.39   \n",
       "2       6                           Trigun  8.24   \n",
       "3       7               Witch Hunter Robin  7.27   \n",
       "4       8                   Bouken Ou Beet  6.98   \n",
       "\n",
       "                                              Genres  \\\n",
       "0    Action, Adventure, Comedy, Drama, Sci-Fi, Space   \n",
       "1              Action, Drama, Mystery, Sci-Fi, Space   \n",
       "2  Action, Sci-Fi, Adventure, Comedy, Drama, Shounen   \n",
       "3  Action, Mystery, Police, Supernatural, Drama, ...   \n",
       "4          Adventure, Fantasy, Shounen, Supernatural   \n",
       "\n",
       "                                           sypnopsis  \\\n",
       "0  In the year 2071, humanity has colonized sever...   \n",
       "1  other day, another bounty—such is the life of ...   \n",
       "2  Vash the Stampede is the man with a $$60,000,0...   \n",
       "3  ches are individuals with special powers like ...   \n",
       "4  It is the dark century and the people are suff...   \n",
       "\n",
       "                                         description  \n",
       "0  Action, Adventure, Comedy, Drama, Sci-Fi, Spac...  \n",
       "1  Action, Drama, Mystery, Sci-Fi, Spaceother day...  \n",
       "2  Action, Sci-Fi, Adventure, Comedy, Drama, Shou...  \n",
       "3  Action, Mystery, Police, Supernatural, Drama, ...  \n",
       "4  Adventure, Fantasy, Shounen, SupernaturalIt is...  "
      ]
     },
     "metadata": {},
     "output_type": "display_data"
    }
   ],
   "source": [
    "data = pd.read_csv('anime_with_synopsis.csv')\n",
    "data[\"description\"] = data[\"Genres\"] + data[\"sypnopsis\"]\n",
    "print(data.shape)\n",
    "display(data.head())"
   ]
  },
  {
   "cell_type": "markdown",
   "metadata": {},
   "source": [
    "### TF\n",
    "TF-IDF stands for Term Frequency-Inverse Document Frequency and is a commonly used method for determining the importance of words in a text document. \n",
    "\n",
    "The term frequency (TF) of a word is simply the number of times it appears in a document, normalized by the total number of words in the document: \n",
    "$$\\mathrm{tf}{i,j} = \\frac{n{i,j}}{\\sum_k n_{k,j}}$$ \n",
    "where $n_{i,j}$ is the number of occurrences of word $i$ in document $j$. \n",
    "\n",
    "### IDF\n",
    "The inverse document frequency (IDF) of a word is a measure of how important it is in the corpus as a whole. It is calculated as the logarithm of the total number of documents in the corpus divided by the number of documents in which the word appears: \n",
    "$$\\mathrm{idf}i = \\log\\frac{N}{df_i}$$\n",
    "where $N$ is the total number of documents in the corpus and $df_i$ is the number of documents in which word $i$ appears. \n",
    "\n",
    "### TF-IDF\n",
    "The TF-IDF score for a word in a document is then the product of its term frequency and its inverse document frequency: \n",
    "$$\\mathrm{tfidf}{i,j} = \\mathrm{tf}_{i,j} \\cdot \\mathrm{idf}_i$$\n",
    "TF-IDF is useful for identifying words that are important to a particular document, and can be used to represent the document as a vector of TF-IDF scores for each word. This vector can then be used in a content-based recommender system to find similar documents based on their TF-IDF vectors."
   ]
  },
  {
   "cell_type": "code",
   "execution_count": 18,
   "metadata": {},
   "outputs": [
    {
     "name": "stdout",
     "output_type": "stream",
     "text": [
      "[[1.         0.23140044 0.02657159 ... 0.         0.0060251  0.0213021 ]\n",
      " [0.23140044 1.         0.04508836 ... 0.01092745 0.0073287  0.01645327]\n",
      " [0.02657159 0.04508836 1.         ... 0.         0.0191878  0.00171378]\n",
      " ...\n",
      " [0.         0.01092745 0.         ... 1.         0.         0.        ]\n",
      " [0.0060251  0.0073287  0.0191878  ... 0.         1.         0.        ]\n",
      " [0.0213021  0.01645327 0.00171378 ... 0.         0.         1.        ]]\n",
      "(16214, 16214)\n"
     ]
    }
   ],
   "source": [
    "# Preprocess data\n",
    "data[\"description\"] = data[\"description\"].fillna(\"\")\n",
    "tfidf = TfidfVectorizer(stop_words=\"english\")\n",
    "tfidf_matrix = tfidf.fit_transform(data[\"description\"])\n",
    "cosine_sim = cosine_similarity(tfidf_matrix, tfidf_matrix)\n",
    "print(cosine_sim)\n",
    "print(cosine_sim.shape)"
   ]
  },
  {
   "cell_type": "code",
   "execution_count": 19,
   "metadata": {},
   "outputs": [
    {
     "name": "stdout",
     "output_type": "stream",
     "text": [
      "most similar movies to Cowboy Bebop are: Cowboy Bebop: Tengoku no Tobira, Ginga Senpuu Braiger, Seihou Bukyou Outlaw Star, Cowboy Bebop: Yose Atsume Blues, Cowboy Bebop: Ein no Natsuyasumi, Sol Bianca: Taiyou no Fune, Wrestler Gundan Seisenshi Robin Jr., Odin: Koushi Hansen Starlight, Happening Star ☆, Bounty Dog: Getsumen no Ibu\n",
      "\n",
      "most similar movies to Cowboy Bebop: Tengoku no Tobira are: Cowboy Bebop, Cowboy Bebop: Ein no Natsuyasumi, Ushinawareta Choushoku, Cowboy Bebop: Yose Atsume Blues, Iria: Zeiram The Animation, Bounty Hunter: The Hard, One Piece Film: Gold, Tetsuwan Atom to Sagurou! Dosei wo Mawaru Shinpi no Hoshi Titan, Ladyspo, Shin Seiki Den Mars\n",
      "\n",
      "most similar movies to Trigun are: Trigun: Badlands Rumble, Isewan Taifuu Monogatari, Zetsumetsu Kigu-shun. (2020), Platonic Chain: Ansatsu Jikkouchuu, Itsumo Kokoro ni Taiyou wo!, Hakaima Sadamitsu, Bonobono (TV 2016), Kukuriraige: Sanseitai Denki, Uobbuchou, Kyoto Animation Koushiki Twitter: Itsumo Arigatou\n",
      "\n",
      "most similar movies to Witch Hunter Robin are: Motto! Ojamajo Doremi, World Witches Hasshin Shimasu!, Renmei Kuugun Koukuu Mahou Ongakutai Luminous Witches, Zero kara Hajimeru Mahou no Sho, Ojamajo Doremi Dokkaan!, Witch Craft Works: Takamiya-kun to Imouto no Warudakumi, Mahou Shoujo Madoka★Magica Movie 1: Hajimari no Monogatari, Mahou Shoujo-tai Arusu, Witch Craft Works Specials, Ojamajo Doremi\n",
      "\n",
      "most similar movies to Bouken Ou Beet are: Bouken Ou Beet Excellion, Zeno: Kagirinaki Ai ni, Mutekiou Tri-Zenon, Little Busters!: Refrain, Little Busters!, First Squad, Ano Hi Mita Hana no Namae wo Bokutachi wa Mada Shiranai. Movie, Kikou Ryohei Mellowlink, Generation of Chaos III: Toki no Fuuin, Lime-iro Ryuukitan X\n",
      "\n",
      "most similar movies to Eyeshield 21 are: Yuujou no Kickoff, Eyeshield 21: Maboroshi no Golden Bowl, Watashi no Tenshi, Zutto Mae kara Suki deshita.: Kokuhaku Jikkou Iinkai - Kinyoubi no Ohayou, Shoujo Fight: Norainu-tachi no Odekake, Aoki Densetsu Shoot!, Midoriyama Koukou Koushien-hen, Akakichi no Eleven, Ashita e Attack!, Diamond no Ace: Act II\n",
      "\n",
      "most similar movies to Hachimitsu to Clover are: Hachimitsu to Clover II, Takemoto Denki x Peeping Life, Precure All Stars Movie New Stage: Mirai no Tomodachi, Lion meets HachiClo, Bokutachi wa Benkyou ga Dekinai!, Dounika Naru Hibi, Connected, Kono Minikuku mo Utsukushii Sekai, Shiroi Unabara, Yurumates\n",
      "\n",
      "most similar movies to Hungry Heart: Wild Striker are: Ginga e Kickoff!!, Whistle!, Captain Tsubasa: Europe Daikessen, Inazuma Eleven Go: Chrono Stone, Aoki Densetsu Shoot!, Captain Tsubasa: Road to 2002, Ashita no Eleven-tachi, Inazuma Eleven Go, Inazuma Eleven Go: Galaxy, Inazuma Eleven: Ares no Tenbin\n",
      "\n",
      "most similar movies to Initial D Fourth Stage are: Initial D Third Stage, Initial D First Stage, Initial D Final Stage, Machine Hayabusa, Bite-Choicar, Initial D Fifth Stage, Pro Yakyuu wo 10-bai Tanoshiku Miru Houhou Part 2, Initial D Extra Stage, Initial D Second Stage, Initial D Battle Stage\n",
      "\n",
      "most similar movies to Monster are: Astro Boy: Tetsuwan Atom, Tetsuwan Atom: Atom Tanjou no Himitsu, Inazuma Eleven Go: Chrono Stone, Saint Seiya: The Lost Canvas - Meiou Shinwa, Jetter Mars, School Rumble, Doctor Chichibuyama, Tetsuwan Atom, School Rumble San Gakki, Junod\n",
      "\n"
     ]
    }
   ],
   "source": [
    "def get_recommendations(title, cosine_sim=cosine_sim, data=data):\n",
    "    # Get index of movie with given title\n",
    "    idx = data[data[\"Name\"] == title].index[0]\n",
    "\n",
    "    # Get pairwise similarities of all movies with the given movie\n",
    "    sim_scores = list(enumerate(cosine_sim[idx]))\n",
    "\n",
    "    # Sort movies based on similarity scores\n",
    "    sim_scores = sorted(sim_scores, key=lambda x: x[1], reverse=True)\n",
    "\n",
    "    # Get top 10 most similar movies\n",
    "    sim_scores = sim_scores[1:11]\n",
    "    movie_indices = [i[0] for i in sim_scores]\n",
    "    return data[\"Name\"].iloc[movie_indices]\n",
    "\n",
    "# Example usage\n",
    "for i in range(10):\n",
    "    rec = get_recommendations(data[\"Name\"].values[i]).values\n",
    "    print(f\"most similar movies to {data['Name'].values[i]} are: {', '.join(rec)}\")\n",
    "    print()\n"
   ]
  },
  {
   "cell_type": "code",
   "execution_count": null,
   "metadata": {},
   "outputs": [],
   "source": []
  },
  {
   "cell_type": "code",
   "execution_count": null,
   "metadata": {},
   "outputs": [],
   "source": []
  }
 ],
 "metadata": {
  "anaconda-cloud": {},
  "kernelspec": {
   "display_name": "Python 3 (ipykernel)",
   "language": "python",
   "name": "python3"
  },
  "language_info": {
   "codemirror_mode": {
    "name": "ipython",
    "version": 3
   },
   "file_extension": ".py",
   "mimetype": "text/x-python",
   "name": "python",
   "nbconvert_exporter": "python",
   "pygments_lexer": "ipython3",
   "version": "3.11.7"
  },
  "varInspector": {
   "cols": {
    "lenName": 16,
    "lenType": 16,
    "lenVar": 40
   },
   "kernels_config": {
    "python": {
     "delete_cmd_postfix": "",
     "delete_cmd_prefix": "del ",
     "library": "var_list.py",
     "varRefreshCmd": "print(var_dic_list())"
    },
    "r": {
     "delete_cmd_postfix": ") ",
     "delete_cmd_prefix": "rm(",
     "library": "var_list.r",
     "varRefreshCmd": "cat(var_dic_list()) "
    }
   },
   "types_to_exclude": [
    "module",
    "function",
    "builtin_function_or_method",
    "instance",
    "_Feature"
   ],
   "window_display": false
  }
 },
 "nbformat": 4,
 "nbformat_minor": 4
}
