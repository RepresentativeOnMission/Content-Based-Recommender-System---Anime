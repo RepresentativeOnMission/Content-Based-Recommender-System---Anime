{
 "cells": [
  {
   "cell_type": "code",
   "execution_count": 1,
   "id": "e205534b-8af7-4914-bf1b-cb5ad30f91d3",
   "metadata": {
    "tags": []
   },
   "outputs": [],
   "source": [
    "from collections import defaultdict\n",
    "\n",
    "import matplotlib.pyplot as plt\n",
    "import numpy as np\n",
    "import pandas as pd\n",
    "from sklearn.preprocessing import LabelEncoder\n",
    "from sklearn.metrics import precision_score, recall_score, f1_score\n",
    "\n",
    "import torch\n",
    "from torch import nn, optim\n",
    "from torch.utils.data import Dataset, DataLoader\n",
    "device = torch.device('cuda' if torch.cuda.is_available() else 'cpu')"
   ]
  },
  {
   "cell_type": "code",
   "execution_count": 2,
   "id": "10916e3b",
   "metadata": {
    "tags": []
   },
   "outputs": [],
   "source": [
    "CFG = {\n",
    "    'sigmoid': True,\n",
    "    'bias': True,\n",
    "    'init': True,\n",
    "    'lr': 0.005,\n",
    "    'num_epochs': 50,\n",
    "}"
   ]
  },
  {
   "cell_type": "markdown",
   "id": "38504523-a231-430c-87f1-71991d7d2f9c",
   "metadata": {},
   "source": [
    "## EDA and Data Preprocessing"
   ]
  },
  {
   "cell_type": "code",
   "execution_count": 3,
   "id": "b544a9ac-a17f-4a51-961a-b05f63508865",
   "metadata": {
    "tags": []
   },
   "outputs": [
    {
     "name": "stdout",
     "output_type": "stream",
     "text": [
      "5123\n",
      "0\n",
      "0\n"
     ]
    },
    {
     "data": {
      "text/html": [
       "<div>\n",
       "<style scoped>\n",
       "    .dataframe tbody tr th:only-of-type {\n",
       "        vertical-align: middle;\n",
       "    }\n",
       "\n",
       "    .dataframe tbody tr th {\n",
       "        vertical-align: top;\n",
       "    }\n",
       "\n",
       "    .dataframe thead th {\n",
       "        text-align: right;\n",
       "    }\n",
       "</style>\n",
       "<table border=\"1\" class=\"dataframe\">\n",
       "  <thead>\n",
       "    <tr style=\"text-align: right;\">\n",
       "      <th></th>\n",
       "      <th>MAL_ID</th>\n",
       "      <th>Name</th>\n",
       "      <th>Score</th>\n",
       "      <th>Genres</th>\n",
       "      <th>sypnopsis</th>\n",
       "      <th>movie_ID</th>\n",
       "    </tr>\n",
       "  </thead>\n",
       "  <tbody>\n",
       "    <tr>\n",
       "      <th>0</th>\n",
       "      <td>1</td>\n",
       "      <td>Cowboy Bebop</td>\n",
       "      <td>8.78</td>\n",
       "      <td>Action, Adventure, Comedy, Drama, Sci-Fi, Space</td>\n",
       "      <td>In the year 2071, humanity has colonized sever...</td>\n",
       "      <td>2392</td>\n",
       "    </tr>\n",
       "    <tr>\n",
       "      <th>1</th>\n",
       "      <td>5</td>\n",
       "      <td>Cowboy Bebop: Tengoku no Tobira</td>\n",
       "      <td>8.39</td>\n",
       "      <td>Action, Drama, Mystery, Sci-Fi, Space</td>\n",
       "      <td>other day, another bounty—such is the life of ...</td>\n",
       "      <td>2394</td>\n",
       "    </tr>\n",
       "    <tr>\n",
       "      <th>2</th>\n",
       "      <td>6</td>\n",
       "      <td>Trigun</td>\n",
       "      <td>8.24</td>\n",
       "      <td>Action, Sci-Fi, Adventure, Comedy, Drama, Shounen</td>\n",
       "      <td>Vash the Stampede is the man with a $$60,000,0...</td>\n",
       "      <td>14571</td>\n",
       "    </tr>\n",
       "    <tr>\n",
       "      <th>3</th>\n",
       "      <td>7</td>\n",
       "      <td>Witch Hunter Robin</td>\n",
       "      <td>7.27</td>\n",
       "      <td>Action, Mystery, Police, Supernatural, Drama, ...</td>\n",
       "      <td>ches are individuals with special powers like ...</td>\n",
       "      <td>15318</td>\n",
       "    </tr>\n",
       "    <tr>\n",
       "      <th>4</th>\n",
       "      <td>8</td>\n",
       "      <td>Bouken Ou Beet</td>\n",
       "      <td>6.98</td>\n",
       "      <td>Adventure, Fantasy, Shounen, Supernatural</td>\n",
       "      <td>It is the dark century and the people are suff...</td>\n",
       "      <td>1582</td>\n",
       "    </tr>\n",
       "    <tr>\n",
       "      <th>...</th>\n",
       "      <td>...</td>\n",
       "      <td>...</td>\n",
       "      <td>...</td>\n",
       "      <td>...</td>\n",
       "      <td>...</td>\n",
       "      <td>...</td>\n",
       "    </tr>\n",
       "    <tr>\n",
       "      <th>16157</th>\n",
       "      <td>47398</td>\n",
       "      <td>Kimetsu Gakuen: Valentine-hen</td>\n",
       "      <td>6.59</td>\n",
       "      <td>Comedy</td>\n",
       "      <td>Valentine's Day special for Kimetsu no Yaiba ....</td>\n",
       "      <td>7012</td>\n",
       "    </tr>\n",
       "    <tr>\n",
       "      <th>16158</th>\n",
       "      <td>47402</td>\n",
       "      <td>Heikousen</td>\n",
       "      <td>7.52</td>\n",
       "      <td>Music, Romance</td>\n",
       "      <td>usic video for Eve and suis' song Heikousen , ...</td>\n",
       "      <td>5042</td>\n",
       "    </tr>\n",
       "    <tr>\n",
       "      <th>16165</th>\n",
       "      <td>47614</td>\n",
       "      <td>Nu Wushen de Canzhuo Spring Festival Special</td>\n",
       "      <td>6.83</td>\n",
       "      <td>Slice of Life, Comedy</td>\n",
       "      <td>No synopsis information has been added to this...</td>\n",
       "      <td>10147</td>\n",
       "    </tr>\n",
       "    <tr>\n",
       "      <th>16166</th>\n",
       "      <td>47616</td>\n",
       "      <td>Yakusoku no Neverland 2nd Season: Michishirube</td>\n",
       "      <td>4.81</td>\n",
       "      <td>Mystery, Psychological, Supernatural, Thriller...</td>\n",
       "      <td>cap of the first season of Yakusoku no Neverla...</td>\n",
       "      <td>15530</td>\n",
       "    </tr>\n",
       "    <tr>\n",
       "      <th>16204</th>\n",
       "      <td>48456</td>\n",
       "      <td>SK∞: Crazy Rock Jam</td>\n",
       "      <td>6.52</td>\n",
       "      <td>Comedy, Sports</td>\n",
       "      <td>cap of the first 9 episodes of SK∞ .</td>\n",
       "      <td>11841</td>\n",
       "    </tr>\n",
       "  </tbody>\n",
       "</table>\n",
       "<p>11091 rows × 6 columns</p>\n",
       "</div>"
      ],
      "text/plain": [
       "       MAL_ID                                            Name  Score  \\\n",
       "0           1                                    Cowboy Bebop   8.78   \n",
       "1           5                 Cowboy Bebop: Tengoku no Tobira   8.39   \n",
       "2           6                                          Trigun   8.24   \n",
       "3           7                              Witch Hunter Robin   7.27   \n",
       "4           8                                  Bouken Ou Beet   6.98   \n",
       "...       ...                                             ...    ...   \n",
       "16157   47398                   Kimetsu Gakuen: Valentine-hen   6.59   \n",
       "16158   47402                                       Heikousen   7.52   \n",
       "16165   47614    Nu Wushen de Canzhuo Spring Festival Special   6.83   \n",
       "16166   47616  Yakusoku no Neverland 2nd Season: Michishirube   4.81   \n",
       "16204   48456                             SK∞: Crazy Rock Jam   6.52   \n",
       "\n",
       "                                                  Genres  \\\n",
       "0        Action, Adventure, Comedy, Drama, Sci-Fi, Space   \n",
       "1                  Action, Drama, Mystery, Sci-Fi, Space   \n",
       "2      Action, Sci-Fi, Adventure, Comedy, Drama, Shounen   \n",
       "3      Action, Mystery, Police, Supernatural, Drama, ...   \n",
       "4              Adventure, Fantasy, Shounen, Supernatural   \n",
       "...                                                  ...   \n",
       "16157                                             Comedy   \n",
       "16158                                     Music, Romance   \n",
       "16165                              Slice of Life, Comedy   \n",
       "16166  Mystery, Psychological, Supernatural, Thriller...   \n",
       "16204                                     Comedy, Sports   \n",
       "\n",
       "                                               sypnopsis movie_ID  \n",
       "0      In the year 2071, humanity has colonized sever...     2392  \n",
       "1      other day, another bounty—such is the life of ...     2394  \n",
       "2      Vash the Stampede is the man with a $$60,000,0...    14571  \n",
       "3      ches are individuals with special powers like ...    15318  \n",
       "4      It is the dark century and the people are suff...     1582  \n",
       "...                                                  ...      ...  \n",
       "16157  Valentine's Day special for Kimetsu no Yaiba ....     7012  \n",
       "16158  usic video for Eve and suis' song Heikousen , ...     5042  \n",
       "16165  No synopsis information has been added to this...    10147  \n",
       "16166  cap of the first season of Yakusoku no Neverla...    15530  \n",
       "16204               cap of the first 9 episodes of SK∞ .    11841  \n",
       "\n",
       "[11091 rows x 6 columns]"
      ]
     },
     "execution_count": 3,
     "metadata": {},
     "output_type": "execute_result"
    }
   ],
   "source": [
    "\n",
    "data = pd.read_csv(\"anime_with_synopsis.csv\")\n",
    "# Delete unfit data\n",
    "data[\"movie_ID\"] = data.Name.astype('category').cat.rename_categories([int(data) for data in range(1,data.Name.nunique()+1)])\n",
    "print(sum(data[\"Score\"] == \"Unknown\"))\n",
    "data = data[data[\"Score\"] != \"Unknown\"]\n",
    "\n",
    "print(sum(data[\"movie_ID\"].isna()))\n",
    "print(sum(data[\"MAL_ID\"].isna()))\n",
    "\n",
    "# Turn user ID to int\n",
    "data[\"MAL_ID\"] = [int(string) for string in data[\"MAL_ID\"]]\n",
    "data[\"Score\"] = [float(string) for string in data[\"Score\"]]\n",
    "data"
   ]
  },
  {
   "cell_type": "code",
   "execution_count": 5,
   "id": "acd815ac",
   "metadata": {
    "tags": []
   },
   "outputs": [
    {
     "data": {
      "image/png": "[encoded data removed]",
      "text/plain": [
       "<Figure size 500x200 with 1 Axes>"
      ]
     },
     "metadata": {},
     "output_type": "display_data"
    }
   ],
   "source": [
    "plt.figure(figsize=(5,2))\n",
    "bins = np.arange(0,10,0.5)\n",
    "plt.hist(data[\"Score\"], bins=bins)\n",
    "#plt.xticks(np.arange(0.5, 5.5, 0.5))\n",
    "plt.title('Num Ratings vs Rating')\n",
    "plt.xlabel('Rating')\n",
    "plt.ylabel('Num Ratings')\n",
    "plt.grid();"
   ]
  },
  {
   "cell_type": "code",
   "execution_count": 6,
   "id": "34a0e1e7",
   "metadata": {
    "tags": []
   },
   "outputs": [
    {
     "name": "stdout",
     "output_type": "stream",
     "text": [
      "# unique MAL_ID: 11091\n",
      "# unique movie_ID: 11090\n",
      "Min # of ratings per user: 1\n",
      "Min/Max rating: 1.85/9.19\n",
      "df.shape: (11091, 6)\n"
     ]
    },
    {
     "data": {
      "text/html": [
       "<div>\n",
       "<style scoped>\n",
       "    .dataframe tbody tr th:only-of-type {\n",
       "        vertical-align: middle;\n",
       "    }\n",
       "\n",
       "    .dataframe tbody tr th {\n",
       "        vertical-align: top;\n",
       "    }\n",
       "\n",
       "    .dataframe thead th {\n",
       "        text-align: right;\n",
       "    }\n",
       "</style>\n",
       "<table border=\"1\" class=\"dataframe\">\n",
       "  <thead>\n",
       "    <tr style=\"text-align: right;\">\n",
       "      <th></th>\n",
       "      <th>MAL_ID</th>\n",
       "      <th>Name</th>\n",
       "      <th>Score</th>\n",
       "      <th>Genres</th>\n",
       "      <th>sypnopsis</th>\n",
       "      <th>movie_ID</th>\n",
       "    </tr>\n",
       "  </thead>\n",
       "  <tbody>\n",
       "    <tr>\n",
       "      <th>0</th>\n",
       "      <td>0</td>\n",
       "      <td>Cowboy Bebop</td>\n",
       "      <td>8.78</td>\n",
       "      <td>Action, Adventure, Comedy, Drama, Sci-Fi, Space</td>\n",
       "      <td>In the year 2071, humanity has colonized sever...</td>\n",
       "      <td>1776</td>\n",
       "    </tr>\n",
       "    <tr>\n",
       "      <th>1</th>\n",
       "      <td>1</td>\n",
       "      <td>Cowboy Bebop: Tengoku no Tobira</td>\n",
       "      <td>8.39</td>\n",
       "      <td>Action, Drama, Mystery, Sci-Fi, Space</td>\n",
       "      <td>other day, another bounty—such is the life of ...</td>\n",
       "      <td>1778</td>\n",
       "    </tr>\n",
       "    <tr>\n",
       "      <th>2</th>\n",
       "      <td>2</td>\n",
       "      <td>Trigun</td>\n",
       "      <td>8.24</td>\n",
       "      <td>Action, Sci-Fi, Adventure, Comedy, Drama, Shounen</td>\n",
       "      <td>Vash the Stampede is the man with a $$60,000,0...</td>\n",
       "      <td>10065</td>\n",
       "    </tr>\n",
       "    <tr>\n",
       "      <th>3</th>\n",
       "      <td>3</td>\n",
       "      <td>Witch Hunter Robin</td>\n",
       "      <td>7.27</td>\n",
       "      <td>Action, Mystery, Police, Supernatural, Drama, ...</td>\n",
       "      <td>ches are individuals with special powers like ...</td>\n",
       "      <td>10547</td>\n",
       "    </tr>\n",
       "    <tr>\n",
       "      <th>4</th>\n",
       "      <td>4</td>\n",
       "      <td>Bouken Ou Beet</td>\n",
       "      <td>6.98</td>\n",
       "      <td>Adventure, Fantasy, Shounen, Supernatural</td>\n",
       "      <td>It is the dark century and the people are suff...</td>\n",
       "      <td>1212</td>\n",
       "    </tr>\n",
       "    <tr>\n",
       "      <th>5</th>\n",
       "      <td>5</td>\n",
       "      <td>Eyeshield 21</td>\n",
       "      <td>7.95</td>\n",
       "      <td>Action, Sports, Comedy, Shounen</td>\n",
       "      <td>Sena is like any other shy kid starting high s...</td>\n",
       "      <td>2626</td>\n",
       "    </tr>\n",
       "    <tr>\n",
       "      <th>6</th>\n",
       "      <td>6</td>\n",
       "      <td>Hachimitsu to Clover</td>\n",
       "      <td>8.06</td>\n",
       "      <td>Comedy, Drama, Josei, Romance, Slice of Life</td>\n",
       "      <td>Yuuta Takemoto, a sophomore at an arts college...</td>\n",
       "      <td>3498</td>\n",
       "    </tr>\n",
       "    <tr>\n",
       "      <th>7</th>\n",
       "      <td>7</td>\n",
       "      <td>Hungry Heart: Wild Striker</td>\n",
       "      <td>7.59</td>\n",
       "      <td>Slice of Life, Comedy, Sports, Shounen</td>\n",
       "      <td>Kyosuke Kano has lived under the shadow of his...</td>\n",
       "      <td>4122</td>\n",
       "    </tr>\n",
       "    <tr>\n",
       "      <th>8</th>\n",
       "      <td>8</td>\n",
       "      <td>Initial D Fourth Stage</td>\n",
       "      <td>8.15</td>\n",
       "      <td>Action, Cars, Sports, Drama, Seinen</td>\n",
       "      <td>Takumi Fujiwara finally joins Ryousuke and Kei...</td>\n",
       "      <td>4314</td>\n",
       "    </tr>\n",
       "    <tr>\n",
       "      <th>9</th>\n",
       "      <td>9</td>\n",
       "      <td>Monster</td>\n",
       "      <td>8.76</td>\n",
       "      <td>Drama, Horror, Mystery, Police, Psychological,...</td>\n",
       "      <td>Dr. Kenzou Tenma, an elite neurosurgeon recent...</td>\n",
       "      <td>6607</td>\n",
       "    </tr>\n",
       "  </tbody>\n",
       "</table>\n",
       "</div>"
      ],
      "text/plain": [
       "   MAL_ID                             Name  Score  \\\n",
       "0       0                     Cowboy Bebop   8.78   \n",
       "1       1  Cowboy Bebop: Tengoku no Tobira   8.39   \n",
       "2       2                           Trigun   8.24   \n",
       "3       3               Witch Hunter Robin   7.27   \n",
       "4       4                   Bouken Ou Beet   6.98   \n",
       "5       5                     Eyeshield 21   7.95   \n",
       "6       6             Hachimitsu to Clover   8.06   \n",
       "7       7       Hungry Heart: Wild Striker   7.59   \n",
       "8       8           Initial D Fourth Stage   8.15   \n",
       "9       9                          Monster   8.76   \n",
       "\n",
       "                                              Genres  \\\n",
       "0    Action, Adventure, Comedy, Drama, Sci-Fi, Space   \n",
       "1              Action, Drama, Mystery, Sci-Fi, Space   \n",
       "2  Action, Sci-Fi, Adventure, Comedy, Drama, Shounen   \n",
       "3  Action, Mystery, Police, Supernatural, Drama, ...   \n",
       "4          Adventure, Fantasy, Shounen, Supernatural   \n",
       "5                    Action, Sports, Comedy, Shounen   \n",
       "6       Comedy, Drama, Josei, Romance, Slice of Life   \n",
       "7             Slice of Life, Comedy, Sports, Shounen   \n",
       "8                Action, Cars, Sports, Drama, Seinen   \n",
       "9  Drama, Horror, Mystery, Police, Psychological,...   \n",
       "\n",
       "                                           sypnopsis  movie_ID  \n",
       "0  In the year 2071, humanity has colonized sever...      1776  \n",
       "1  other day, another bounty—such is the life of ...      1778  \n",
       "2  Vash the Stampede is the man with a $$60,000,0...     10065  \n",
       "3  ches are individuals with special powers like ...     10547  \n",
       "4  It is the dark century and the people are suff...      1212  \n",
       "5  Sena is like any other shy kid starting high s...      2626  \n",
       "6  Yuuta Takemoto, a sophomore at an arts college...      3498  \n",
       "7  Kyosuke Kano has lived under the shadow of his...      4122  \n",
       "8  Takumi Fujiwara finally joins Ryousuke and Kei...      4314  \n",
       "9  Dr. Kenzou Tenma, an elite neurosurgeon recent...      6607  "
      ]
     },
     "execution_count": 6,
     "metadata": {},
     "output_type": "execute_result"
    }
   ],
   "source": [
    "# Use LabelEncoder to convert users and movies into categorical\n",
    "# This step remaps each column integer range to [0, len(df.column.unique())-1]\n",
    "# Remapping is useful to reduce memory size of nn.embeddings\n",
    "d = defaultdict(LabelEncoder)\n",
    "cols_cat = ['MAL_ID', 'movie_ID']\n",
    "for c in cols_cat:\n",
    "    d[c].fit(data[c].unique())\n",
    "    data[c] = d[c].transform(data[c])\n",
    "    print(f'# unique {c}: {len(d[c].classes_)}')\n",
    "\n",
    "min_num_ratings = data.groupby(['MAL_ID'])['MAL_ID'].transform(len).min()\n",
    "print(f'Min # of ratings per user: {min_num_ratings}')\n",
    "print(f'Min/Max rating: {data.Score.min()}/{data.Score.max()}')\n",
    "print(f'df.shape: {data.shape}')\n",
    "data.head(10)"
   ]
  },
  {
   "cell_type": "code",
   "execution_count": 7,
   "id": "7eb9a2b2",
   "metadata": {
    "tags": []
   },
   "outputs": [],
   "source": [
    "class AnimeDataset(Dataset):\n",
    "    def __init__(self, df):\n",
    "        super().__init__()\n",
    "        self.df = df[['MAL_ID', 'movie_ID', 'Score']]\n",
    "        self.x_user_anime = list(zip(df.MAL_ID.values, df.movie_ID.values))\n",
    "        self.y_rating = self.df.Score.values\n",
    "    def __len__(self):\n",
    "        return len(self.df)\n",
    "    def __getitem__(self, idx):\n",
    "        return self.x_user_anime[idx], self.y_rating[idx]"
   ]
  },
  {
   "cell_type": "code",
   "execution_count": 8,
   "id": "c15d12e3",
   "metadata": {
    "tags": []
   },
   "outputs": [],
   "source": [
    "BS = 8192\n",
    "ds_train = AnimeDataset(data)\n",
    "dl_train = DataLoader(ds_train, BS, shuffle=True)"
   ]
  },
  {
   "cell_type": "code",
   "execution_count": 31,
   "id": "12b0ff07-1bf7-48f9-bb3f-e9662fcadd29",
   "metadata": {
    "tags": []
   },
   "outputs": [
    {
     "name": "stdout",
     "output_type": "stream",
     "text": [
      "[tensor([ 2399, 10995,   638,  ...,  5103,  5301,  9866]), tensor([ 642, 2357, 1733,  ..., 7229, 7942,  820])]\n",
      "tensor([5.6000, 8.0600, 6.5200,  ..., 5.2700, 4.1800, 6.4700],\n",
      "       dtype=torch.float64)\n",
      "torch.Size([8192])\n"
     ]
    }
   ],
   "source": [
    "xb, yb = next(iter(dl_train))\n",
    "print(xb)\n",
    "print(yb)\n",
    "print(xb[0].size())"
   ]
  },
  {
   "cell_type": "code",
   "execution_count": 10,
   "id": "5a605691",
   "metadata": {
    "tags": []
   },
   "outputs": [],
   "source": [
    "def sigmoid_range(x, low, high):\n",
    "    \"\"\" Sigmoid function with range (low, high) \"\"\"\n",
    "    return torch.sigmoid(x) * (high-low) + low\n",
    "\n",
    "class MFAdvanced(nn.Module):\n",
    "    \"\"\" Matrix factorization + user & item bias, weight init., sigmoid_range \"\"\"\n",
    "    def __init__(self, num_users, num_items, emb_dim, init, bias, sigmoid):\n",
    "        super().__init__()\n",
    "        self.bias = bias\n",
    "        self.sigmoid = sigmoid\n",
    "        self.user_emb = nn.Embedding(num_users, emb_dim)\n",
    "        self.item_emb = nn.Embedding(num_items, emb_dim)\n",
    "        if bias:\n",
    "            self.user_bias = nn.Parameter(torch.zeros(num_users))\n",
    "            self.item_bias = nn.Parameter(torch.zeros(num_items))\n",
    "            self.offset = nn.Parameter(torch.zeros(1))\n",
    "        if init:\n",
    "            self.user_emb.weight.data.uniform_(0., 0.05)\n",
    "            self.item_emb.weight.data.uniform_(0., 0.05)\n",
    "    def forward(self, user, item):\n",
    "        user_emb = self.user_emb(user)\n",
    "        item_emb = self.item_emb(item)\n",
    "        element_product = (user_emb*item_emb).sum(1)\n",
    "        if self.bias:\n",
    "            user_b = self.user_bias[user]\n",
    "            item_b = self.item_bias[item]\n",
    "            element_product += user_b + item_b + self.offset\n",
    "        if self.sigmoid:\n",
    "            return sigmoid_range(element_product, 0, 5.5)\n",
    "        return element_product"
   ]
  },
  {
   "cell_type": "code",
   "execution_count": 11,
   "id": "2cb78b80",
   "metadata": {
    "tags": []
   },
   "outputs": [],
   "source": [
    "def round_to_0p5(list_nums):\n",
    "    \"\"\" Helper func to round nums to nearest 0.5, eg 1.45 -> 1.5 \"\"\"\n",
    "    return np.round(np.array(list_nums)*2)/2"
   ]
  },
  {
   "cell_type": "code",
   "execution_count": 12,
   "id": "bb34866f",
   "metadata": {
    "tags": []
   },
   "outputs": [
    {
     "name": "stdout",
     "output_type": "stream",
     "text": [
      "dict_keys(['user_bias', 'item_bias', 'offset', 'user_emb.weight', 'item_emb.weight'])\n"
     ]
    }
   ],
   "source": [
    "n_users = len(data.MAL_ID.unique())\n",
    "n_items = len(data.movie_ID.unique())\n",
    "mdl = MFAdvanced(n_users, n_items, emb_dim=32,\n",
    "                 init=CFG['init'],\n",
    "                 bias=CFG['bias'],\n",
    "                 sigmoid=CFG['sigmoid'],\n",
    ")\n",
    "mdl.to(device)\n",
    "print(dict(mdl.named_parameters()).keys())"
   ]
  },
  {
   "cell_type": "code",
   "execution_count": 14,
   "id": "136ebac5",
   "metadata": {
    "tags": []
   },
   "outputs": [
    {
     "name": "stdout",
     "output_type": "stream",
     "text": [
      "Epoch: 0, Train Loss: 14.6\n",
      "Epoch: 1, Train Loss: 14.2\n",
      "Epoch: 2, Train Loss: 13.7\n",
      "Epoch: 3, Train Loss: 13.3\n",
      "Epoch: 4, Train Loss: 12.8\n",
      "Epoch: 5, Train Loss: 12.4\n",
      "Epoch: 6, Train Loss: 11.9\n",
      "Epoch: 7, Train Loss: 11.5\n",
      "Epoch: 8, Train Loss: 10.8\n",
      "Epoch: 9, Train Loss: 10.4\n",
      "Epoch: 10, Train Loss: 9.9\n",
      "Epoch: 11, Train Loss: 9.4\n",
      "Epoch: 12, Train Loss: 8.9\n",
      "Epoch: 13, Train Loss: 8.4\n",
      "Epoch: 14, Train Loss: 7.9\n",
      "Epoch: 15, Train Loss: 7.4\n",
      "Epoch: 16, Train Loss: 7.0\n",
      "Epoch: 17, Train Loss: 6.5\n",
      "Epoch: 18, Train Loss: 6.2\n",
      "Epoch: 19, Train Loss: 5.8\n",
      "Epoch: 20, Train Loss: 5.4\n",
      "Epoch: 21, Train Loss: 5.1\n",
      "Epoch: 22, Train Loss: 4.8\n",
      "Epoch: 23, Train Loss: 4.5\n",
      "Epoch: 24, Train Loss: 4.3\n",
      "Epoch: 25, Train Loss: 4.1\n",
      "Epoch: 26, Train Loss: 3.8\n",
      "Epoch: 27, Train Loss: 3.7\n",
      "Epoch: 28, Train Loss: 3.5\n",
      "Epoch: 29, Train Loss: 3.4\n",
      "Epoch: 30, Train Loss: 3.3\n",
      "Epoch: 31, Train Loss: 3.2\n",
      "Epoch: 32, Train Loss: 3.0\n",
      "Epoch: 33, Train Loss: 3.0\n",
      "Epoch: 34, Train Loss: 2.9\n",
      "Epoch: 35, Train Loss: 2.8\n",
      "Epoch: 36, Train Loss: 2.7\n",
      "Epoch: 37, Train Loss: 2.7\n",
      "Epoch: 38, Train Loss: 2.6\n",
      "Epoch: 39, Train Loss: 2.5\n",
      "Epoch: 40, Train Loss: 2.6\n",
      "Epoch: 41, Train Loss: 2.5\n",
      "Epoch: 42, Train Loss: 2.5\n",
      "Epoch: 43, Train Loss: 2.4\n",
      "Epoch: 44, Train Loss: 2.4\n",
      "Epoch: 45, Train Loss: 2.4\n",
      "Epoch: 46, Train Loss: 2.4\n",
      "Epoch: 47, Train Loss: 2.3\n",
      "Epoch: 48, Train Loss: 2.3\n",
      "Epoch: 49, Train Loss: 2.3\n"
     ]
    }
   ],
   "source": [
    "opt = optim.AdamW(mdl.parameters(), lr=CFG['lr'])\n",
    "loss_fn = nn.MSELoss()\n",
    "epoch_train_losses = []\n",
    "\n",
    "for i in range(CFG['num_epochs']):\n",
    "    train_losses, val_losses = [], []\n",
    "    mdl.train()\n",
    "    for xb,yb in dl_train:\n",
    "        xUser = xb[0].to(device, dtype=torch.long)\n",
    "        xItem = xb[1].to(device, dtype=torch.long)\n",
    "        yRatings = yb.to(device, dtype=torch.float)\n",
    "        preds = mdl(xUser, xItem)\n",
    "        loss = loss_fn(preds, yRatings)\n",
    "        train_losses.append(loss.item())\n",
    "        opt.zero_grad()\n",
    "        loss.backward()\n",
    "        opt.step()\n",
    "    # Start logging\n",
    "    epoch_train_loss = np.mean(train_losses)\n",
    "    epoch_train_losses.append(epoch_train_loss)\n",
    "    s = (f'Epoch: {i}, Train Loss: {epoch_train_loss:0.1f}')\n",
    "    print(s)"
   ]
  },
  {
   "cell_type": "code",
   "execution_count": 15,
   "id": "97684797",
   "metadata": {
    "tags": []
   },
   "outputs": [
    {
     "data": {
      "image/png": "[encoded data removed]",
      "text/plain": [
       "<Figure size 500x200 with 1 Axes>"
      ]
     },
     "metadata": {},
     "output_type": "display_data"
    }
   ],
   "source": [
    "plt.figure(figsize=(5,2))\n",
    "plt.plot(epoch_train_losses, label='Train')\n",
    "plt.title('Loss vs Epoch')\n",
    "plt.xlabel('Epoch')\n",
    "plt.ylabel('Loss')\n",
    "plt.grid()\n",
    "plt.legend();"
   ]
  },
  {
   "cell_type": "code",
   "execution_count": 98,
   "id": "688cc401",
   "metadata": {
    "tags": []
   },
   "outputs": [],
   "source": [
    "# Get the top k suggested items for a given user \"user\"\n",
    "def recommendations(user, top_k = 10):\n",
    "    scores = []\n",
    "    unique_items = data[\"movie_ID\"].unique()\n",
    "    for anime in unique_items:\n",
    "        score = mdl(torch.Tensor([user]).to(torch.int64), \n",
    "                    torch.Tensor([anime]).to(torch.int64))\n",
    "        scores.append((anime, score))\n",
    "    scores = sorted(scores, key=lambda x: x[1], reverse=True)\n",
    "    top_animes = [i[0] for i in scores[:top_k]]\n",
    "    \n",
    "    recommended_animes = [data[[\"Name\"]].loc[data[\"MAL_ID\"] == rec_anime] for rec_anime in top_animes]\n",
    "    recommended_animes = [rec_anime.values[0] for rec_anime in recommended_animes]\n",
    "    return recommended_animes"
   ]
  },
  {
   "cell_type": "markdown",
   "id": "a8d05246-e00d-4060-9ca6-dfe2eda60bcf",
   "metadata": {},
   "source": [
    "## A user is randomly selected and k recommendations are generated for it.\n",
    "Note that usually a specific user will be selected, not a random one; this is just to make it easy to test the model a bit.\n",
    "If you want to test for a specific user, just input a user ID instead of the randomly generated value"
   ]
  },
  {
   "cell_type": "code",
   "execution_count": 199,
   "id": "a46a7072-25cd-4fe1-a32f-09fbb8cf6012",
   "metadata": {
    "tags": []
   },
   "outputs": [],
   "source": [
    "import random\n",
    "random.seed(13)"
   ]
  },
  {
   "cell_type": "code",
   "execution_count": 198,
   "id": "99256df0-bdee-4044-8de3-7844358f515d",
   "metadata": {
    "tags": []
   },
   "outputs": [
    {
     "name": "stdout",
     "output_type": "stream",
     "text": [
      "User ID: 4805\n",
      "\n",
      "Recommended Animes: \n"
     ]
    },
    {
     "data": {
      "text/plain": [
       "[array(['Magic Kaito'], dtype=object),\n",
       " array([\"Yoshinaga-san'chi no Gargoyle Specials\"], dtype=object),\n",
       " array(['Robo to Shoujo (Kari)'], dtype=object),\n",
       " array(['Zekkyou Gakkyuu'], dtype=object),\n",
       " array(['Densetsu Kyojin Ideon: Hatsudou-hen'], dtype=object),\n",
       " array(['009-1'], dtype=object),\n",
       " array(['Cluster Edge Specials'], dtype=object),\n",
       " array(['Bouken Dankichi: Hyouryuu no Maki'], dtype=object),\n",
       " array(['Code Geass: Hangyaku no Lelouch II - Handou'], dtype=object),\n",
       " array(['Kamisama no Memochou'], dtype=object)]"
      ]
     },
     "execution_count": 198,
     "metadata": {},
     "output_type": "execute_result"
    }
   ],
   "source": [
    "random_user = random.randrange(len(data[\"MAL_ID\"]))\n",
    "recommended_animes = recommendations(random_user, 10)\n",
    "print(\"User ID: \" + str(random_user) + \"\\n\\nRecommended Animes: \")\n",
    "recommended_animes"
   ]
  }
 ],
 "metadata": {
  "kernelspec": {
   "display_name": "Python 3 (ipykernel)",
   "language": "python",
   "name": "python3"
  },
  "language_info": {
   "codemirror_mode": {
    "name": "ipython",
    "version": 3
   },
   "file_extension": ".py",
   "mimetype": "text/x-python",
   "name": "python",
   "nbconvert_exporter": "python",
   "pygments_lexer": "ipython3",
   "version": "3.11.5"
  }
 },
 "nbformat": 4,
 "nbformat_minor": 5
}
